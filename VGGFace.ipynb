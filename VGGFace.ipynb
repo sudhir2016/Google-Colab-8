{
  "nbformat": 4,
  "nbformat_minor": 0,
  "metadata": {
    "colab": {
      "name": "VGGFace",
      "provenance": [],
      "collapsed_sections": [],
      "authorship_tag": "ABX9TyPcGWxLAtE67H2iO1Up8s7m",
      "include_colab_link": true
    },
    "kernelspec": {
      "name": "python3",
      "display_name": "Python 3"
    }
  },
  "cells": [
    {
      "cell_type": "markdown",
      "metadata": {
        "id": "view-in-github",
        "colab_type": "text"
      },
      "source": [
        "<a href=\"https://colab.research.google.com/github/sudhir2016/Google-Colab_8/blob/master/VGGFace.ipynb\" target=\"_parent\"><img src=\"https://colab.research.google.com/assets/colab-badge.svg\" alt=\"Open In Colab\"/></a>"
      ]
    },
    {
      "cell_type": "markdown",
      "metadata": {
        "id": "W-V4DJSQuCbJ",
        "colab_type": "text"
      },
      "source": [
        "This is an example of VGGFace for face recognition."
      ]
    },
    {
      "cell_type": "markdown",
      "metadata": {
        "id": "-kg5eKzruWX_",
        "colab_type": "text"
      },
      "source": [
        "Pip install VGGFace and MTCNN"
      ]
    },
    {
      "cell_type": "code",
      "metadata": {
        "id": "RSsCKApUuBRk",
        "colab_type": "code",
        "colab": {}
      },
      "source": [
        "pip install keras_vggface"
      ],
      "execution_count": 0,
      "outputs": []
    },
    {
      "cell_type": "code",
      "metadata": {
        "id": "ZGAiVvy5g8X5",
        "colab_type": "code",
        "colab": {}
      },
      "source": [
        "pip install mtcnn"
      ],
      "execution_count": 0,
      "outputs": []
    },
    {
      "cell_type": "markdown",
      "metadata": {
        "id": "aTLMC2O5u8kr",
        "colab_type": "text"
      },
      "source": [
        "Load various libraries."
      ]
    },
    {
      "cell_type": "code",
      "metadata": {
        "colab_type": "code",
        "id": "PrbjIb_BhYfP",
        "colab": {}
      },
      "source": [
        "import numpy as np\n",
        "import matplotlib.pyplot as plt\n",
        "from PIL import Image\n",
        "from keras_vggface.vggface import VGGFace\n",
        "from keras_vggface.utils import preprocess_input\n",
        "from keras_vggface.utils import decode_predictions\n",
        "from mtcnn import MTCNN\n",
        "from keras.preprocessing.image import load_img\n",
        "from keras.preprocessing.image import img_to_array"
      ],
      "execution_count": 0,
      "outputs": []
    },
    {
      "cell_type": "markdown",
      "metadata": {
        "id": "AixgBqJHvQYv",
        "colab_type": "text"
      },
      "source": [
        "Load and show image of Sunny Deol."
      ]
    },
    {
      "cell_type": "code",
      "metadata": {
        "id": "BWFVvlkLjyF4",
        "colab_type": "code",
        "colab": {}
      },
      "source": [
        "img1=plt.imread('sunny_deol.jpeg')"
      ],
      "execution_count": 0,
      "outputs": []
    },
    {
      "cell_type": "code",
      "metadata": {
        "id": "ZLTToHv-mJbU",
        "colab_type": "code",
        "colab": {}
      },
      "source": [
        "plt.imshow(img1)"
      ],
      "execution_count": 0,
      "outputs": []
    },
    {
      "cell_type": "markdown",
      "metadata": {
        "id": "adzTGLT3vgBD",
        "colab_type": "text"
      },
      "source": [
        "Use MTCNN to extract and process face from image."
      ]
    },
    {
      "cell_type": "code",
      "metadata": {
        "id": "zYLSJ7-aNpxx",
        "colab_type": "code",
        "colab": {}
      },
      "source": [
        "detector=MTCNN()"
      ],
      "execution_count": 0,
      "outputs": []
    },
    {
      "cell_type": "code",
      "metadata": {
        "id": "qsx-127lNyQX",
        "colab_type": "code",
        "colab": {}
      },
      "source": [
        "out=detector.detect_faces(img1)"
      ],
      "execution_count": 0,
      "outputs": []
    },
    {
      "cell_type": "code",
      "metadata": {
        "id": "hbepMXeHlL_N",
        "colab_type": "code",
        "colab": {}
      },
      "source": [
        "x1, y1, width, height = out[0]['box']\n",
        "x2, y2 = x1 + width, y1 + height"
      ],
      "execution_count": 0,
      "outputs": []
    },
    {
      "cell_type": "code",
      "metadata": {
        "id": "7Y9RaNn9lUFY",
        "colab_type": "code",
        "colab": {}
      },
      "source": [
        "face = img1[y1:y2, x1:x2]"
      ],
      "execution_count": 0,
      "outputs": []
    },
    {
      "cell_type": "code",
      "metadata": {
        "id": "oeTh03Jblc_R",
        "colab_type": "code",
        "colab": {}
      },
      "source": [
        "size=(224,224)\n",
        "img2 = Image.fromarray(face)\n",
        "img3 = img2.resize(size)\n",
        "img4 = np.array(img3)"
      ],
      "execution_count": 0,
      "outputs": []
    },
    {
      "cell_type": "code",
      "metadata": {
        "id": "tBtWeLy_Izjb",
        "colab_type": "code",
        "colab": {}
      },
      "source": [
        "plt.imshow(img4)"
      ],
      "execution_count": 0,
      "outputs": []
    },
    {
      "cell_type": "code",
      "metadata": {
        "id": "PEJYf9AWlWcI",
        "colab_type": "code",
        "colab": {}
      },
      "source": [
        "img5 = img4.astype('float32')"
      ],
      "execution_count": 0,
      "outputs": []
    },
    {
      "cell_type": "code",
      "metadata": {
        "id": "_44j4kqpPqwd",
        "colab_type": "code",
        "colab": {}
      },
      "source": [
        "img6=np.expand_dims(img5,axis=0)"
      ],
      "execution_count": 0,
      "outputs": []
    },
    {
      "cell_type": "code",
      "metadata": {
        "id": "QElI9nqEi3sa",
        "colab_type": "code",
        "colab": {}
      },
      "source": [
        "img7 = preprocess_input(img6, version=2)"
      ],
      "execution_count": 0,
      "outputs": []
    },
    {
      "cell_type": "markdown",
      "metadata": {
        "id": "623Z7GXSv24n",
        "colab_type": "text"
      },
      "source": [
        "Load VGGFace with senet50."
      ]
    },
    {
      "cell_type": "code",
      "metadata": {
        "id": "OmzyThqnkAC1",
        "colab_type": "code",
        "colab": {}
      },
      "source": [
        "vggface = VGGFace(model='senet50')"
      ],
      "execution_count": 0,
      "outputs": []
    },
    {
      "cell_type": "markdown",
      "metadata": {
        "id": "U948Aa_YwMAg",
        "colab_type": "text"
      },
      "source": [
        "Run prediction on VGGFace for processed face image of Sunny Deol."
      ]
    },
    {
      "cell_type": "code",
      "metadata": {
        "id": "z_YSlbZDFDlP",
        "colab_type": "code",
        "colab": {}
      },
      "source": [
        "prediction=vggface.predict(img7)"
      ],
      "execution_count": 0,
      "outputs": []
    },
    {
      "cell_type": "markdown",
      "metadata": {
        "id": "3AbWLAt1wd0N",
        "colab_type": "text"
      },
      "source": [
        "Decode and print prediction."
      ]
    },
    {
      "cell_type": "code",
      "metadata": {
        "id": "gtvHU3koRajV",
        "colab_type": "code",
        "colab": {}
      },
      "source": [
        "result=decode_predictions(prediction)"
      ],
      "execution_count": 0,
      "outputs": []
    },
    {
      "cell_type": "code",
      "metadata": {
        "id": "FZl1H67PRu7a",
        "colab_type": "code",
        "colab": {}
      },
      "source": [
        "print(result)"
      ],
      "execution_count": 0,
      "outputs": []
    }
  ]
}